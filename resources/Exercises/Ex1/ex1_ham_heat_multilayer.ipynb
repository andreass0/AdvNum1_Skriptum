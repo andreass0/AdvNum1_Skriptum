{
 "cells": [
  {
   "cell_type": "markdown",
   "metadata": {},
   "source": [
    "# Exercise 1: Heat Conduction for multiple layers with variable properties\n",
    "\n",
    "The development of the temperature field for an arbitrary building component should be calculated. The component can consist of multiple layers with varying properties. Furthermore, the gridsizes may very in the different layers.\n",
    "<img alt=\"Arbitrary building component with n layers and prescribed boundary conditions.\" height=\"250\" src=\"building_comp.png\" title=\"Depiciton\" width=\"250\"/>\n"
   ]
  },
  {
   "cell_type": "code",
   "execution_count": 27,
   "metadata": {
    "collapsed": false,
    "jupyter": {
     "outputs_hidden": false
    }
   },
   "outputs": [],
   "source": [
    "import matplotlib.pyplot as plt\n",
    "import numpy as np"
   ]
  },
  {
   "cell_type": "markdown",
   "metadata": {},
   "source": [
    "First we are going to create some classes to easier describe the problem.\n",
    "- Cell_Mat: This class should resemble a certain martial, with the needed properties to define needed for the calculation.\n",
    "- Boundary_Cell: Class for the boundary layer. This one only has a temperature and a given resistance.\n",
    "- We will not create a class for the simulation, because this would clutter the notebook. Feel free to do so on your own."
   ]
  },
  {
   "cell_type": "code",
   "execution_count": 28,
   "metadata": {
    "collapsed": false,
    "jupyter": {
     "outputs_hidden": false
    }
   },
   "outputs": [],
   "source": [
    "class Cell_Mat(object):\n",
    "    def __init__(self, *args, **kwargs):\n",
    "        # Discretization\n",
    "        self.dx = kwargs.get('dx', None)\n",
    "        self.face_e = kwargs.get('face_e', None)\n",
    "        self.face_w = kwargs.get('face_w', None)\n",
    "\n",
    "        # Material parameters\n",
    "        self.lamb = kwargs.get('lamb', None)\n",
    "        self.cp = kwargs.get('cp', None)\n",
    "        self.rho = kwargs.get('rho', None)\n",
    "        self.RC = self.dx / self.lamb\n",
    "\n",
    "        # Fields\n",
    "        self.Tn = kwargs.get('Tn', None)\n",
    "        self.Tn_plus = kwargs.get('Tn_plus', None)\n",
    "        self.dT = kwargs.get('dT', None)\n",
    "\n",
    "        # Neighbours\n",
    "        self.cell_E = kwargs.get('cell_E', None)\n",
    "        self.cell_W = kwargs.get('cell_W', None)\n",
    "\n",
    "\n",
    "class Boundary_Cell(object):\n",
    "    def __init__(self, *args, **kwargs):\n",
    "        # Fields\n",
    "        self.Tn = kwargs.get('Tn', None)\n",
    "        self.Tn_plus = kwargs.get('Tn_plus', None)\n",
    "\n",
    "        self.RC = kwargs.get('RC', None)\n",
    "\n",
    "        # Neighbours\n",
    "        # No neighbours. This is the end of the sim domain"
   ]
  },
  {
   "cell_type": "markdown",
   "metadata": {},
   "source": [
    "Here we create our input data for our calculation:"
   ]
  },
  {
   "cell_type": "code",
   "execution_count": 29,
   "metadata": {
    "collapsed": false,
    "jupyter": {
     "outputs_hidden": false
    }
   },
   "outputs": [],
   "source": [
    "# ----------------------------------\n",
    "# Define simulation domain\n",
    "# ----------------------------------\n",
    "\n",
    "# Define Simulation parameters\n",
    "sim_time = 3600 * 24 * 1\n",
    "\n",
    "# Define mat cells\n",
    "eps = [0] * 20\n",
    "eps = [Cell_Mat(dx=0.01, lamb=0.04, cp=1470, rho=1000, Tn=10) for i in eps]\n",
    "concrete = [0] * 10\n",
    "concrete = [Cell_Mat(dx=0.015, lamb=2.3, cp=1000, rho=2500, Tn=10) for i in concrete]\n",
    "plaster = [0] * 4\n",
    "plaster = [Cell_Mat(dx=0.005, lamb=0.9, cp=1000, rho=2000, Tn=10) for i in plaster]\n",
    "\n",
    "# Define BCs\n",
    "BC_left = [Boundary_Cell(Tn=0, RC=0.04)]\n",
    "BC_right = [Boundary_Cell(Tn=20, RC=0.10)]\n",
    "\n",
    "# Assemble simulation domain\n",
    "layers = [eps, concrete, plaster]\n",
    "mat_domain = eps + concrete + plaster\n",
    "whole_domain = BC_left + mat_domain + BC_right\n",
    "num_cells = whole_domain.__len__()"
   ]
  },
  {
   "cell_type": "markdown",
   "metadata": {},
   "source": [
    "Next we are going to assemble the matrices for calculation:"
   ]
  },
  {
   "cell_type": "code",
   "execution_count": 30,
   "metadata": {
    "collapsed": false,
    "jupyter": {
     "outputs_hidden": false
    }
   },
   "outputs": [],
   "source": [
    "#  Assemble Sim domain into matrices\n",
    "# Initialise variables\n",
    "\n",
    "# Apply neighbours\n",
    "for count, cell in enumerate(mat_domain):\n",
    "    cell.cell_W = whole_domain[count]\n",
    "    cell.cell_E = whole_domain[count + 2]\n",
    "\n",
    "# %%\n",
    "dx_array = np.array([cell.dx for cell in mat_domain])\n",
    "\n",
    "Tn = np.array([cell.Tn for cell in whole_domain])\n",
    "Tn_plus = np.array([cell.Tn_plus for cell in whole_domain])\n",
    "# get interface indices\n",
    "interface_indices = [layer.__len__() for layer in layers]  # here the ghost cells are missing.\n",
    "RC_array = np.array([cell.RC for cell in whole_domain])\n",
    "RC_W = RC_array[0:-2]\n",
    "RC_P = RC_array[1:-1]\n",
    "RC_E = RC_array[2:]\n",
    "Kw_array = 1 / (RC_W / 2 + RC_P / 2)\n",
    "Ke_array = 1 / (RC_E / 2 + RC_P / 2)\n",
    "\n",
    "# Build conductivity matrix [K]\n",
    "# Create sparse matrix\n",
    "Left_diagonal = np.eye(num_cells, num_cells, k=-1)\n",
    "Left_diagonal[1:-1, 0:-2] = Left_diagonal[1:-1, 0:-2] * Kw_array\n",
    "Right_diagonal = np.eye(num_cells, num_cells, k=1)\n",
    "Right_diagonal[1:-1, 2:] = Right_diagonal[1:-1, 2:] * Ke_array\n",
    "Main_Diagonal = np.eye(num_cells, num_cells)\n",
    "Main_Diagonal[1:-1, 1:-1] = Main_Diagonal[1:-1, 1:-1] * - (Kw_array + Ke_array)\n",
    "K = Left_diagonal + Main_Diagonal + Right_diagonal\n",
    "# Multiply with constants\n",
    "cp_array = np.array([cell.cp for cell in mat_domain])\n",
    "Left_diagonal = np.eye(num_cells, num_cells, k=-1)\n",
    "Left_diagonal[1:-1, 0:-2] = Left_diagonal[1:-1, 0:-2] * cp_array\n",
    "Right_diagonal = np.eye(num_cells, num_cells, k=1)\n",
    "Right_diagonal[1:-1, 2:] = Right_diagonal[1:-1, 2:] * cp_array\n",
    "Main_Diagonal = np.eye(num_cells, num_cells)\n",
    "Main_Diagonal[1:-1, 1:-1] = Main_Diagonal[1:-1, 1:-1] * cp_array\n",
    "cp_P_constants = Left_diagonal + Main_Diagonal + Right_diagonal\n",
    "cp_P_constants[cp_P_constants == 0] = 1\n",
    "\n",
    "rho_array = np.array([cell.rho for cell in mat_domain])\n",
    "Left_diagonal = np.eye(num_cells, num_cells, k=-1)\n",
    "Left_diagonal[1:-1, 0:-2] = Left_diagonal[1:-1, 0:-2] * rho_array\n",
    "Right_diagonal = np.eye(num_cells, num_cells, k=1)\n",
    "Right_diagonal[1:-1, 2:] = Right_diagonal[1:-1, 2:] * rho_array\n",
    "Main_Diagonal = np.eye(num_cells, num_cells)\n",
    "Main_Diagonal[1:-1, 1:-1] = Main_Diagonal[1:-1, 1:-1] * rho_array\n",
    "rho_P_constants = Left_diagonal + Main_Diagonal + Right_diagonal\n",
    "rho_P_constants[rho_P_constants == 0] = 1\n",
    "\n",
    "Left_diagonal = np.eye(num_cells, num_cells, k=-1)\n",
    "Left_diagonal[1:-1, 0:-2] = Left_diagonal[1:-1, 0:-2] * dx_array\n",
    "Right_diagonal = np.eye(num_cells, num_cells, k=1)\n",
    "Right_diagonal[1:-1, 2:] = Right_diagonal[1:-1, 2:] * dx_array\n",
    "Main_Diagonal = np.eye(num_cells, num_cells)\n",
    "Main_Diagonal[1:-1, 1:-1] = Main_Diagonal[1:-1, 1:-1] * dx_array\n",
    "dx_P_constants = Left_diagonal + Main_Diagonal + Right_diagonal\n",
    "dx_P_constants[dx_P_constants == 0] = 1"
   ]
  },
  {
   "cell_type": "markdown",
   "metadata": {},
   "source": [
    "## Simulation\n",
    "As heard in the lecture, we are going to use an explicit Euler scheme. Since we have created a linear equation system for our problem we can solve the whole domain each step with a simple matrix multiplication.\n",
    "\n",
    "Before running the loop we will check for a suitable timestep with the Fourier Number."
   ]
  },
  {
   "cell_type": "code",
   "execution_count": 31,
   "metadata": {
    "collapsed": false,
    "jupyter": {
     "outputs_hidden": false
    }
   },
   "outputs": [],
   "source": [
    "# ----------------------\n",
    "# Simulation\n",
    "# ----------------------\n",
    "t = 0\n",
    "smallest_dx = dx_array.min()\n",
    "smallest_cp = cp_array.min()\n",
    "smallest_rho = rho_array.min()\n",
    "lamb_array = np.array([cell.lamb for cell in mat_domain])\n",
    "biggest_lamb = lamb_array.max()\n",
    "dt = 0.5 * smallest_cp * smallest_rho * smallest_dx ** 2 / biggest_lamb"
   ]
  },
  {
   "cell_type": "markdown",
   "metadata": {},
   "source": [
    "Now we can multiply our conductivity matrix with the missing constants:"
   ]
  },
  {
   "cell_type": "code",
   "execution_count": 32,
   "metadata": {
    "collapsed": false,
    "jupyter": {
     "outputs_hidden": false
    }
   },
   "outputs": [],
   "source": [
    "# Multiply [K] with constants\n",
    "K = K / cp_P_constants / rho_P_constants / dx_P_constants * dt\n",
    "K[0, 0], K[0, 1], K[-1, -1], K[-1, -2] = 0, 0, 0, 0  # ghost lines for boundary conditions\n",
    "# Rewrite [K] * [T] + [T] with identitiy matrix\n",
    "I = np.eye(num_cells, num_cells)\n",
    "L = I + K\n"
   ]
  },
  {
   "cell_type": "markdown",
   "metadata": {},
   "source": [
    "And finally run our simulation."
   ]
  },
  {
   "cell_type": "code",
   "execution_count": 33,
   "metadata": {
    "collapsed": false,
    "jupyter": {
     "outputs_hidden": false
    }
   },
   "outputs": [],
   "source": [
    "# Simulation Loop\n",
    "while t <= sim_time:\n",
    "    # Calculate temperature field\n",
    "    # ------------------------------\n",
    "    # Tn_plus = K @ Tn + Tn\n",
    "    Tn_plus = L @ Tn\n",
    "    Tn = Tn_plus\n",
    "    t += dt"
   ]
  },
  {
   "cell_type": "markdown",
   "metadata": {},
   "source": [
    "Let's plot our results."
   ]
  },
  {
   "cell_type": "code",
   "execution_count": 34,
   "metadata": {
    "collapsed": false,
    "jupyter": {
     "outputs_hidden": false
    }
   },
   "outputs": [
    {
     "data": {
      "image/png": "[encoded data removed]",
      "text/plain": [
       "<Figure size 640x480 with 1 Axes>"
      ]
     },
     "metadata": {},
     "output_type": "display_data"
    }
   ],
   "source": [
    "#  Plot tempfield to check\n",
    "dx_array = np.array([cell.dx for cell in mat_domain])\n",
    "d_array = np.cumsum(dx_array) - dx_array/2\n",
    "\n",
    "plt.plot(d_array, Tn[1:-1], '.')\n",
    "plt.plot(d_array, Tn[1:-1], linestyle='dashed', alpha = 0.2, color='b')\n",
    "# plt.xticks(np.arange(min(d_array), max(d_array), 0.01))\n",
    "for x in np.cumsum(dx_array[1:-1]):\n",
    "    plt.axvline(x, alpha=0.2, color='black')\n",
    "plt.axvline(0, alpha=1, color='blue')\n",
    "plt.axvline(np.cumsum(dx_array)[-1], alpha=1, color='red')\n",
    "plt.annotate(xy=(10, 10), text='Left Boundary', fontsize=22)\n",
    "# plt.text(-5, 60, 'Right Boundary', fontsize=22)\n",
    "plt.text(0.02, 15, f'Left Boundary={BC_left[0].Tn} °C', style='italic', bbox={\n",
    "    'facecolor': 'blue', 'alpha': 0.5, 'pad': 10})\n",
    "plt.text(0.21, 10, f'Right Boundary={BC_right[0].Tn} °C', style='italic', bbox={\n",
    "    'facecolor': 'red', 'alpha': 0.5, 'pad': 10})\n",
    "plt.text(0.10, 2, 'Finite Volumes', style='italic', bbox={\n",
    "    'facecolor': 'black', 'alpha': 0.3, 'pad': 10})\n",
    "plt.title(f'Results for the temperature profile at t={sim_time/3600} h')\n",
    "\n",
    "plt.xlabel('Thickness in Meter')\n",
    "plt.ylabel('Temperature in Degree Celsius')\n",
    "plt.show()"
   ]
  }
 ],
 "metadata": {
  "kernelspec": {
   "display_name": "Python 3 (ipykernel)",
   "language": "python",
   "name": "python3"
  },
  "language_info": {
   "codemirror_mode": {
    "name": "ipython",
    "version": 3
   },
   "file_extension": ".py",
   "mimetype": "text/x-python",
   "name": "python",
   "nbconvert_exporter": "python",
   "pygments_lexer": "ipython3",
   "version": "3.9.13"
  }
 },
 "nbformat": 4,
 "nbformat_minor": 4
}
