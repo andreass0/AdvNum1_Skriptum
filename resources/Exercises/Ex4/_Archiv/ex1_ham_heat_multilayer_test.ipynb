{
 "cells": [
  {
   "cell_type": "markdown",
   "metadata": {},
   "source": [
    "# Exercise 1: Heat Conduction for multiple layers with variable properties\n",
    "## Description\n",
    "The development of the temperature field for an arbitrary building component should be calculated. The component can consist of multiple layers with varying properties. Furthermore, the grid-sizes may very in the different layers.\n",
    "```{figure} Ex1/building_comp.png\n",
    "---\n",
    "height: 200px\n",
    "name: cond_bound_cell\n",
    "---\n",
    "Figure from problem statement. {cite}`hagentoftIntroductionBuildingPhysics2001`.\n",
    "```\n",
    "\n",
    "The models physical behaviour is described by the governing differential equation for heat conduction:\n",
    "\n",
    "$$\n",
    "\\rho c\\frac{\\partial T}{\\partial t} = \\nabla \\left( \\lambda \\nabla T \\right)\n",
    "$$(ex_heat_eq)"
   ]
  },
  {
   "cell_type": "code",
   "execution_count": 25,
   "metadata": {
    "collapsed": false,
    "jupyter": {
     "outputs_hidden": false
    }
   },
   "outputs": [],
   "source": [
    "import matplotlib.pyplot as plt\n",
    "import numpy as np"
   ]
  },
  {
   "cell_type": "markdown",
   "metadata": {},
   "source": [
    "## Program Design\n",
    "First we are going to create some classes to easier describe the problem.\n",
    "- Cell_Mat: This class should resemble a certain material, with the needed properties to define for the calculation.\n",
    "- Boundary_Cell: Class for the boundary layer. This one only has a temperature and a given resistance.\n",
    "- We will not create a class for the simulation, because this would clutter the notebook. Feel free to do so on your own if you like to."
   ]
  },
  {
   "cell_type": "code",
   "execution_count": 26,
   "metadata": {
    "collapsed": false,
    "jupyter": {
     "outputs_hidden": false
    }
   },
   "outputs": [],
   "source": [
    "class Cell_Mat(object):\n",
    "    def __init__(self, *args, **kwargs):\n",
    "        # Discretization\n",
    "        self.dx = kwargs.get('dx', None)\n",
    "        self.face_e = kwargs.get('face_e', None)\n",
    "        self.face_w = kwargs.get('face_w', None)\n",
    "\n",
    "        # Material parameters\n",
    "        self.lamb = kwargs.get('lamb', None)\n",
    "        self.cp = kwargs.get('cp', None)\n",
    "        self.rho = kwargs.get('rho', None)\n",
    "        self.RC = self.dx / self.lamb\n",
    "\n",
    "        # Fields\n",
    "        self.Tn = kwargs.get('Tn', None)\n",
    "        self.Tn_plus = kwargs.get('Tn_plus', None)\n",
    "        self.dT = kwargs.get('dT', None)\n",
    "\n",
    "        # Neighbours\n",
    "        self.cell_E = kwargs.get('cell_E', None)\n",
    "        self.cell_W = kwargs.get('cell_W', None)\n",
    "\n",
    "\n",
    "class Boundary_Cell(object):\n",
    "    def __init__(self, *args, **kwargs):\n",
    "        # Fields\n",
    "        self.Tn = kwargs.get('Tn', None)\n",
    "        self.Tn_plus = kwargs.get('Tn_plus', None)\n",
    "\n",
    "        self.RC = kwargs.get('RC', None)\n",
    "\n",
    "        # Neighbours\n",
    "        # No neighbours. This is the end of the sim domain"
   ]
  },
  {
   "cell_type": "markdown",
   "metadata": {},
   "source": [
    "## Input data\n",
    "Here we create our input data for our calculation:"
   ]
  },
  {
   "cell_type": "code",
   "execution_count": 27,
   "outputs": [],
   "source": [
    "# ----------------------------------\n",
    "# Define simulation domain\n",
    "# ----------------------------------\n",
    "\n",
    "# Define Simulation parameters\n",
    "sim_time = 3600 * 24 * 1\n",
    "\n",
    "# Define mat cells\n",
    "eps = [0] * 20\n",
    "eps = [Cell_Mat(dx=0.01, lamb=0.04, cp=1470, rho=1000, Tn=10) for i in eps]\n",
    "concrete = [0] * 10\n",
    "concrete = [Cell_Mat(dx=0.015, lamb=2.3, cp=1000, rho=2500, Tn=10) for i in concrete]\n",
    "plaster = [0] * 4\n",
    "plaster = [Cell_Mat(dx=0.005, lamb=0.9, cp=1000, rho=2000, Tn=10) for i in plaster]\n",
    "#\n",
    "# osb_1 = [0] * 2\n",
    "# osb_1 = [Cell_Mat(dx=0.02 / 2, lamb=0.13, mu=50, cp=1000, rho=600, Tn=20) for i in osb_1]\n",
    "#\n",
    "# miwo = [0] * 25\n",
    "# miwo = [Cell_Mat(dx=0.25 / 25, lamb=0.04, mu=1, cp=1000, rho=50, Tn=20) for i in miwo]\n",
    "#\n",
    "# osb_2 = [0] * 2\n",
    "# osb_2 = [Cell_Mat(dx=0.02 / 2, lamb=0.13, mu=50, cp=1000, rho=600, Tn=20) for i in osb_2]\n",
    "#\n",
    "# eps = [0] * 5\n",
    "# eps = [Cell_Mat(dx=0.05 / 5, lamb=0.04, mu=10, cp=1000, rho=20, Tn=20) for i in eps]\n",
    "\n",
    "# Define BCs\n",
    "\n",
    "BC_left = [Boundary_Cell(Tn=0, RC=0.13)]\n",
    "BC_right = [Boundary_Cell(Tn=30, RC=0.13)]\n",
    "\n",
    "# Assemble simulation domain\n",
    "# layers = [osb_1, miwo, osb_2, eps]\n",
    "# mat_domain = osb_1 + miwo + osb_2 + eps\n",
    "layers = [eps, concrete, plaster]\n",
    "mat_domain = eps + concrete + plaster\n",
    "whole_domain = BC_left + mat_domain + BC_right\n",
    "num_cells = whole_domain.__len__()"
   ],
   "metadata": {
    "collapsed": false
   }
  },
  {
   "cell_type": "markdown",
   "metadata": {},
   "source": [
    "## Numerics\n",
    "As we heard in the lecture, the concept of RC-Networks is well suited, to implement a numerical solution of this problem. We will discretize Equation {eq}`ex_heat_eq` exemplary for the left boundary and in a general form for an internal cell with the Finite Volume Method.\n",
    "\n",
    "```{figure} Ex1/network_multilayer.png\n",
    "---\n",
    "height: 200px\n",
    "name: cond_bound_cell\n",
    "---\n",
    "RC-Network for building component {cite}`hagentoftIntroductionBuildingPhysics2001`.\n",
    "```\n",
    "\n",
    "### Internal Cells - Numerical Formulation\n",
    "When working with Finite Volumes it is common practice to use the following notation:\n",
    "- Index of the cell is based on the direction it is situated (P = cell to evaluate, E = cell to the east, W = cell to the west)\n",
    "- Quantities which are evaluated in the middle of the cells are denoted with capital letters\n",
    "- Quantities which are evaluated at interfaces/surfaces of the cells are denoted with small letters\n",
    "\n",
    "```{figure} Ex1/fvm_internal_cell.png\n",
    "---\n",
    "height: 200px\n",
    "name: cond_bound_cell\n",
    "---\n",
    "Labeling convention for FVM.\n",
    "```\n",
    "\n",
    "\n",
    "\n",
    "Furthermore, the distances from the middle of one cell to its neighbour should be denoted as $\\Delta x_{w}$ and $\\Delta x_{e}$ with the definition:\n",
    "\n",
    "$$\n",
    "\\Delta x_{w} = \\frac{\\Delta x_{W}}{2} + \\frac{\\Delta x_{P}}{2}\n",
    "$$\n",
    "\n",
    "$$\n",
    "\\Delta x_{e} = \\frac{\\Delta x_{P}}{2} + \\frac{\\Delta x_{E}}{2}\n",
    "$$\n",
    "\n",
    "**LHS of Equation {eq}`ex_heat_eq`:**\n",
    "Integrating over the surfaces of the control-volume and evaluating them numerically in 1D gives us for the LHS\n",
    "\n",
    "$$\n",
    "\\int_{w}^{e} \\rho c \\frac{dT(x)}{dt} \\,dx = \\rho c \\frac{dT(x)}{dt} \\Delta x = \\rho_{P} c_{P}  \\frac{T_{P}^{n+1} - T_{P}^{n}}{\\Delta t} \\Delta x_{P}.\n",
    "$$\n",
    "\n",
    "**RHS of Equation {eq}`ex_heat_eq`:**\n",
    "Integrating over the surfaces of the control-volume and evaluating them numerically in 1D gives us for the RHS\n",
    "\n",
    "$$\n",
    "\\int_{w}^{e} \\frac{d}{dx} \\lambda(x) \\frac{dT(x)}{dx}\\,dx = \\left[\\lambda(x) \\frac{dT(x)}{dx}\\right]_{w}^{e} = \\lambda_{e} \\frac{T_{e}}{dx} - \\lambda_{w} \\frac{T_{w}}{dx} = \\lambda_{e} \\frac{T_{E} - T_{P}}{\\Delta x_{e}} - \\lambda_{w} \\frac{T_{P} - T_{W}}{\\Delta x_{w}}.\n",
    "$$\n",
    "This results in the numerical formulation of Equation {eq}`ex_heat_eq` for an internal cell with an explicit procedure as\n",
    "\n",
    "$$\n",
    "\\rho_{P} c_{P}  \\frac{T_{P}^{n+1} - T_{P}^{n}}{\\Delta t} \\Delta x_{P} = \\lambda_{e} \\frac{T_{E} - T_{P}}{\\Delta x_{e}} - \\lambda_{w} \\frac{T_{P} - T_{W}}{\\Delta x_{w}}\n",
    "$$\n",
    "\n",
    "Solving for the unknown temperature for the next time step using the identity $F_{o}^{*} = \\frac{\\Delta t}{\\rho_{P} c_{P}  \\Delta x_{P}}$ (which we'll call a modified Fourier-Number) gives us\n",
    "\n",
    "$$\n",
    "T^{n+1} = T^{n} + F_{o}^{*} \\left(\\frac{\\lambda_{e}}{\\Delta x_{e}} T_{E} - \\left(\\frac{\\lambda_{e}}{\\Delta x_{e}} + \\frac{\\lambda_{w}}{\\Delta x_{w}}\\right) T_{P} - \\frac{\\lambda_{w}}{\\Delta x_{w}} T_{W}\\right)\n",
    "$$(ex_heat_num_eq)\n",
    "\n",
    "The unknown variables at the interfaces $\\lambda_{e}, \\lambda_{w}$ can be derived with the theory the RC-Networks are based on. With that we can reformulate our conductivity parameters in Equation {eq}`ex_heat_num_eq` as\n",
    "\n",
    "```{figure} Ex1/cond_int_cell.png\n",
    "---\n",
    "height: 150px\n",
    "name: cond_bound_cell\n",
    "---\n",
    "Definition of conductivity for an interior cell  {cite}`hagentoftIntroductionBuildingPhysics2001`.\n",
    "```\n",
    "$$\n",
    "K_{e} = \\frac{1}{\\frac{\\Delta x_{E}/2}{\\lambda_{E}} + R_{c_{e}} + \\frac{\\Delta x_{P}/2}{\\lambda_{P}}}\n",
    "$$\n",
    "\n",
    "and\n",
    "\n",
    "$$\n",
    "K_{w} = \\frac{1}{\\frac{\\Delta x_{P}/2}{\\lambda_{P}} + R_{c_{w}} + \\frac{\\Delta x_{W}/2}{\\lambda_{W}}}\n",
    "$$\n",
    "\n",
    "with $R_{c_{e}}$ and $R_{c_{w}}$ denoting resistances right in the interface layer.\n",
    "\n",
    "Inserting above expressions in Equation {eq}`ex_heat_num_eq` we get\n",
    "\n",
    "$$\n",
    "T^{n+1} = T^{n} + F_{o}^{*} \\left(K_{e} T_{E} - \\left(K_{e} + K_{w}\\right) T_{P} - K_{w} T_{W}\\right)\n",
    "$$(ex_heat_num_cond_eq)\n",
    "\n",
    "### Left Boundary-Numerical Formulation\n",
    "The numerical formulation for the boundaries will be shown exemplary for the left- or west-boundary of the simulation domain. The formulation for the other side is analogous.\n",
    "\n",
    "As with the internal cell, we will take advantage of the conductivity properties of such a boundary node. For a boundary condition which prescribes a static quantitiy (Dirichlet-Boundary-Condition) when using RC-Networks only the conductivity parameters have to be adjusted\n",
    "\n",
    "```{figure} Ex1/cond_bound_cell.png\n",
    "---\n",
    "height: 150px\n",
    "name: cond_bound_cell\n",
    "---\n",
    "Definition of conductivity at the boundary  {cite}`hagentoftIntroductionBuildingPhysics2001`.\n",
    "```\n",
    "\n",
    "$$\n",
    "K_{BC_{Left}} = \\frac{1}{\\frac{\\Delta x_{P}/2}{\\lambda_{P}} + R_{BC_{Left}} + 0}\n",
    "$$\n",
    "\n",
    "with $R_{BC_{Left}}$ being known resistance prescribed by the boundary condition. Since this formulation takes in account that the boundary is applied at the surface of the Cell we can simply adapt Equation {eq}`ex_heat_num_cond_eq`.\n",
    "\n",
    "$$\n",
    "T^{n+1} = T^{n} + F_{o}^{*} \\left(K_{e} T_{E} - \\left(K_{e} + K_{w}\\right) T_{P} - K_{BC_{Left}} T_{BC_{Left}}\\right)\n",
    "$$(ex_heat_num_cond_bound_eq)\n",
    "\n",
    "### Assembling of Conductivity Matrix\n",
    "To solve the system for all cells at each time step we can come up with a matrix-vector formulations of Equation {eq}`ex_heat_num_cond_eq` and Equation {eq}`ex_heat_num_cond_bound_eq`.\n",
    "\n",
    "\n",
    "\n",
    "In this formulation the vector $T^{n}$ consists of the temperature at each discretization point at the current timestep $n$\n",
    "\n",
    "$$ T^{n} =\n",
    " \\begin{bmatrix}\n",
    "T_{BC_{Left}} \\\\\n",
    "T_{1} \\\\\n",
    "  \\\\\n",
    "T_{m} \\\\\n",
    "T_{m+1} \\\\\n",
    "  \\\\\n",
    "T_{BC_{Right}}\n",
    "\\end{bmatrix}\n",
    "$$\n",
    "\n",
    "$K$ is the conductivity matrix\n",
    "\n",
    "$$ K =\n",
    "\\begin{bmatrix}\n",
    "0 & 0 & 0 & (...) &   &   &   \\\\\n",
    "K_{BC_{Left}} &  - \\left(K_{e} + K_{w}\\right) & K_{e} & 0 & (...) &   &   \\\\\n",
    "0 & K_{w} &  - \\left(K_{e} + K_{w}\\right) & K_{e} & 0 & (...) &   \\\\\n",
    "  &   & K_{w} &  - \\left(K_{e} + K_{w}\\right) & K_{e} &   &   \\\\\n",
    "  & (...) & 0 & K_{w} &  - \\left(K_{e} + K_{w}\\right) & K_{e} & 0 \\\\\n",
    "  &   & (...) & 0 & K_{w} &  - \\left(K_{e} + K_{w}\\right) & K_{BC_{Right}} \\\\\n",
    "  &   &   & (...) & 0 & 0 & 0\n",
    "\\end{bmatrix}\n",
    "$$\n",
    "\n",
    "and $T^{n+1}$ will be the solution vector. This gives us following expression for the unkown temperature-field $T^{n+1}$ of the next timestep  in matrix-vector form\n",
    "\n",
    "$$\n",
    "T^{n+1} = T^{n} + F_{o}^{*} K T^{n}\n",
    "$$\n"
   ]
  },
  {
   "cell_type": "code",
   "execution_count": 28,
   "metadata": {
    "collapsed": false,
    "jupyter": {
     "outputs_hidden": false
    }
   },
   "outputs": [],
   "source": [
    "#  Assemble Sim domain into matrices\n",
    "# Initialise variables\n",
    "\n",
    "# Apply neighbours\n",
    "for count, cell in enumerate(mat_domain):\n",
    "    cell.cell_W = whole_domain[count]\n",
    "    cell.cell_E = whole_domain[count + 2]\n",
    "\n",
    "# %%\n",
    "dx_array = np.array([cell.dx for cell in mat_domain])\n",
    "\n",
    "Tn = np.array([cell.Tn for cell in whole_domain])\n",
    "Tn_plus = np.array([cell.Tn_plus for cell in whole_domain])\n",
    "\n",
    "RC_array = np.array([cell.RC for cell in whole_domain])\n",
    "RC_W = RC_array[0:-2]\n",
    "RC_P = RC_array[1:-1]\n",
    "RC_E = RC_array[2:]\n",
    "Kw_array = 1 / (RC_W / 2 + RC_P / 2)\n",
    "Ke_array = 1 / (RC_E / 2 + RC_P / 2)\n",
    "\n",
    "# Build conductivity matrix [K]\n",
    "# Create sparse matrix\n",
    "Left_diagonal = np.eye(num_cells, num_cells, k=-1)\n",
    "Left_diagonal[1:-1, 0:-2] = Left_diagonal[1:-1, 0:-2] * Kw_array\n",
    "Right_diagonal = np.eye(num_cells, num_cells, k=1)\n",
    "Right_diagonal[1:-1, 2:] = Right_diagonal[1:-1, 2:] * Ke_array\n",
    "Main_Diagonal = np.eye(num_cells, num_cells)\n",
    "Main_Diagonal[1:-1, 1:-1] = Main_Diagonal[1:-1, 1:-1] * - (Kw_array + Ke_array)\n",
    "K = Left_diagonal + Main_Diagonal + Right_diagonal\n",
    "# Multiply with constants\n",
    "cp_array = np.array([cell.cp for cell in mat_domain])\n",
    "Left_diagonal = np.eye(num_cells, num_cells, k=-1)\n",
    "Left_diagonal[1:-1, 0:-2] = Left_diagonal[1:-1, 0:-2] * cp_array\n",
    "Right_diagonal = np.eye(num_cells, num_cells, k=1)\n",
    "Right_diagonal[1:-1, 2:] = Right_diagonal[1:-1, 2:] * cp_array\n",
    "Main_Diagonal = np.eye(num_cells, num_cells)\n",
    "Main_Diagonal[1:-1, 1:-1] = Main_Diagonal[1:-1, 1:-1] * cp_array\n",
    "cp_P_constants = Left_diagonal + Main_Diagonal + Right_diagonal\n",
    "cp_P_constants[cp_P_constants == 0] = 1\n",
    "\n",
    "rho_array = np.array([cell.rho for cell in mat_domain])\n",
    "Left_diagonal = np.eye(num_cells, num_cells, k=-1)\n",
    "Left_diagonal[1:-1, 0:-2] = Left_diagonal[1:-1, 0:-2] * rho_array\n",
    "Right_diagonal = np.eye(num_cells, num_cells, k=1)\n",
    "Right_diagonal[1:-1, 2:] = Right_diagonal[1:-1, 2:] * rho_array\n",
    "Main_Diagonal = np.eye(num_cells, num_cells)\n",
    "Main_Diagonal[1:-1, 1:-1] = Main_Diagonal[1:-1, 1:-1] * rho_array\n",
    "rho_P_constants = Left_diagonal + Main_Diagonal + Right_diagonal\n",
    "rho_P_constants[rho_P_constants == 0] = 1\n",
    "\n",
    "Left_diagonal = np.eye(num_cells, num_cells, k=-1)\n",
    "Left_diagonal[1:-1, 0:-2] = Left_diagonal[1:-1, 0:-2] * dx_array\n",
    "Right_diagonal = np.eye(num_cells, num_cells, k=1)\n",
    "Right_diagonal[1:-1, 2:] = Right_diagonal[1:-1, 2:] * dx_array\n",
    "Main_Diagonal = np.eye(num_cells, num_cells)\n",
    "Main_Diagonal[1:-1, 1:-1] = Main_Diagonal[1:-1, 1:-1] * dx_array\n",
    "dx_P_constants = Left_diagonal + Main_Diagonal + Right_diagonal\n",
    "dx_P_constants[dx_P_constants == 0] = 1"
   ]
  },
  {
   "cell_type": "markdown",
   "metadata": {},
   "source": [
    "### Simulation\n",
    "\n",
    "As heard in the lecture, we are going to use an explicit Euler scheme. Since we have created a linear equation system for our problem we can solve the whole domain each step with a simple matrix multiplication.\n",
    "\n",
    "Before running the loop we will check for a suitable timestep with the **Fourier Number**."
   ]
  },
  {
   "cell_type": "code",
   "execution_count": 29,
   "metadata": {
    "collapsed": false,
    "jupyter": {
     "outputs_hidden": false
    }
   },
   "outputs": [],
   "source": [
    "# ----------------------\n",
    "# Simulation\n",
    "# ----------------------\n",
    "t = 0\n",
    "smallest_dx = dx_array.min()\n",
    "smallest_cp = cp_array.min()\n",
    "smallest_rho = rho_array.min()\n",
    "lamb_array = np.array([cell.lamb for cell in mat_domain])\n",
    "biggest_lamb = lamb_array.max()\n",
    "dt = 0.5 * smallest_cp * smallest_rho * smallest_dx ** 2 / biggest_lamb"
   ]
  },
  {
   "cell_type": "markdown",
   "metadata": {},
   "source": [
    "Now we can multiply our conductivity matrix with the missing constants:"
   ]
  },
  {
   "cell_type": "code",
   "execution_count": 30,
   "metadata": {
    "collapsed": false,
    "jupyter": {
     "outputs_hidden": false
    }
   },
   "outputs": [],
   "source": [
    "# Multiply [K] with constants\n",
    "K = K / cp_P_constants / rho_P_constants / dx_P_constants * dt\n",
    "K[0, 0], K[0, 1], K[-1, -1], K[-1, -2] = 0, 0, 0, 0  # ghost lines for boundary conditions\n",
    "# Rewrite [K] * [T] + [T] with identitiy matrix\n",
    "I = np.eye(num_cells, num_cells)\n",
    "L = I + K\n"
   ]
  },
  {
   "cell_type": "markdown",
   "metadata": {},
   "source": [
    "And finally run our simulation."
   ]
  },
  {
   "cell_type": "code",
   "execution_count": 31,
   "metadata": {
    "collapsed": false,
    "jupyter": {
     "outputs_hidden": false
    }
   },
   "outputs": [],
   "source": [
    "# Simulation Loop\n",
    "while t <= sim_time:\n",
    "    # Calculate temperature field\n",
    "    # ------------------------------\n",
    "    # Tn_plus = K @ Tn + Tn\n",
    "    Tn_plus = L @ Tn\n",
    "    Tn = Tn_plus\n",
    "    t += dt"
   ]
  },
  {
   "cell_type": "markdown",
   "metadata": {},
   "source": [
    "## Plotting the results\n",
    "Let's plot our results."
   ]
  },
  {
   "cell_type": "code",
   "execution_count": 32,
   "metadata": {
    "collapsed": false,
    "jupyter": {
     "outputs_hidden": false
    }
   },
   "outputs": [
    {
     "data": {
      "text/plain": "<Figure size 640x480 with 1 Axes>",
      "image/png": "[encoded data removed]"
     },
     "metadata": {},
     "output_type": "display_data"
    }
   ],
   "source": [
    "#  Plot tempfield to check\n",
    "dx_array = np.array([cell.dx for cell in mat_domain])\n",
    "d_array = np.cumsum(dx_array) - dx_array / 2\n",
    "\n",
    "plt.plot(d_array, Tn[1:-1], '.')\n",
    "plt.plot(d_array, Tn[1:-1], linestyle='dashed', alpha=0.2, color='b')\n",
    "# plt.xticks(np.arange(min(d_array), max(d_array), 0.01))\n",
    "for x in np.cumsum(dx_array):\n",
    "    plt.axvline(x, alpha=0.2, color='black')\n",
    "plt.axvline(0, alpha=1, color='blue')\n",
    "plt.axvline(np.cumsum(dx_array)[-1], alpha=1, color='red')\n",
    "plt.annotate(xy=(10, 10), text='Left Boundary', fontsize=22)\n",
    "# plt.text(-5, 60, 'Right Boundary', fontsize=22)\n",
    "plt.text(0.02, 15, f'Left Boundary={BC_left[0].Tn} °C', style='italic', bbox={\n",
    "    'facecolor': 'blue', 'alpha': 0.5, 'pad': 10})\n",
    "plt.text(0.21, 10, f'Right Boundary={BC_right[0].Tn} °C', style='italic', bbox={\n",
    "    'facecolor': 'red', 'alpha': 0.5, 'pad': 10})\n",
    "plt.text(0.10, 2, 'Finite Volumes', style='italic', bbox={\n",
    "    'facecolor': 'black', 'alpha': 0.3, 'pad': 10})\n",
    "plt.title(f'Results for the temperature profile at t={sim_time / 3600} h')\n",
    "\n",
    "plt.xlabel('Thickness in Meter')\n",
    "plt.ylabel('Temperature in Degree Celsius')\n",
    "plt.show()"
   ]
  },
  {
   "cell_type": "markdown",
   "source": [
    "## Stationary Calculation\n",
    "\n",
    "To check how the stationary calculation for the materials would look like, we rewrite the equation for the stationary case, setting $\\frac{dT}{dt} = 0$\n",
    "\n",
    "$$\n",
    "0 = \\nabla (\\lambda \\nabla T)\n",
    "$$\n",
    "\n",
    "To reuse our implementaton of the numerical solution for the instationary problem, we will rearrange the conductivity-matrix $K$, and the solution vector and create an LES for the stationary problem in the form:\n",
    "\n",
    "$$\n",
    "Ax =b\n",
    "$$\n",
    "\n",
    "Here $A$ will be our modified conductivity matrix, $x$ the vector of the unknown temperatures and $b$ will be the vector for our known boundary condition."
   ],
   "metadata": {
    "collapsed": false
   }
  },
  {
   "cell_type": "code",
   "execution_count": 33,
   "outputs": [],
   "source": [
    "K_stat = K * cp_P_constants * rho_P_constants * dx_P_constants / dt\n",
    "K_staat_new = K_stat[1:-1, 1:-1]"
   ],
   "metadata": {
    "collapsed": false
   }
  },
  {
   "cell_type": "code",
   "execution_count": 34,
   "outputs": [
    {
     "data": {
      "text/plain": "14.754098360655737"
     },
     "execution_count": 34,
     "metadata": {},
     "output_type": "execute_result"
    }
   ],
   "source": [
    "num_cells_mat = mat_domain.__len__()\n",
    "b = np.zeros(num_cells_mat)\n",
    "b[0] = -K_stat[1, 0] * Tn[0]\n",
    "b[-1] = - K_stat[-2, -1] * Tn[-1]\n",
    "K_stat[-2, -1]"
   ],
   "metadata": {
    "collapsed": false
   }
  },
  {
   "cell_type": "code",
   "execution_count": 35,
   "outputs": [],
   "source": [
    "T_stat = np.linalg.solve(K_staat_new, b)"
   ],
   "metadata": {
    "collapsed": false
   }
  },
  {
   "cell_type": "markdown",
   "source": [
    "#### Plot"
   ],
   "metadata": {
    "collapsed": false
   }
  },
  {
   "cell_type": "code",
   "execution_count": 36,
   "outputs": [
    {
     "data": {
      "text/plain": "<Figure size 640x480 with 1 Axes>",
      "image/png": "[encoded data removed]"
     },
     "metadata": {},
     "output_type": "display_data"
    }
   ],
   "source": [
    "# plt.plot(T_stat, '.')\n",
    "#  Plot tempfield to check\n",
    "dx_array = np.array([cell.dx for cell in mat_domain])\n",
    "d_array = np.cumsum(dx_array) - dx_array / 2\n",
    "\n",
    "plt.plot(d_array, T_stat, '.')\n",
    "plt.plot(d_array, T_stat, linestyle='dashed', alpha=0.2, color='b')\n",
    "# plt.xticks(np.arange(min(d_array), max(d_array), 0.01))\n",
    "for x in np.cumsum(dx_array):\n",
    "    plt.axvline(x, alpha=0.2, color='black')\n",
    "plt.axvline(0, alpha=1, color='blue')\n",
    "plt.axvline(np.cumsum(dx_array)[-1], alpha=1, color='red')\n",
    "plt.annotate(xy=(10, 10), text='Left Boundary', fontsize=22)\n",
    "# plt.text(-5, 60, 'Right Boundary', fontsize=22)\n",
    "plt.text(0.02, 15, f'Left Boundary={BC_left[0].Tn} °C', style='italic', bbox={\n",
    "    'facecolor': 'blue', 'alpha': 0.5, 'pad': 10})\n",
    "plt.text(0.21, 10, f'Right Boundary={BC_right[0].Tn} °C', style='italic', bbox={\n",
    "    'facecolor': 'red', 'alpha': 0.5, 'pad': 10})\n",
    "plt.text(0.10, 2, 'Finite Volumes', style='italic', bbox={\n",
    "    'facecolor': 'black', 'alpha': 0.3, 'pad': 10})\n",
    "plt.title(f'Results for the temperature profile at t={sim_time / 3600} h')\n",
    "\n",
    "plt.xlabel('Thickness in Meter')\n",
    "plt.ylabel('Temperature in Degree Celsius')\n",
    "plt.show()"
   ],
   "metadata": {
    "collapsed": false
   }
  }
 ],
 "metadata": {
  "kernelspec": {
   "display_name": "Python 3 (ipykernel)",
   "language": "python",
   "name": "python3"
  },
  "language_info": {
   "codemirror_mode": {
    "name": "ipython",
    "version": 3
   },
   "file_extension": ".py",
   "mimetype": "text/x-python",
   "name": "python",
   "nbconvert_exporter": "python",
   "pygments_lexer": "ipython3",
   "version": "3.9.13"
  }
 },
 "nbformat": 4,
 "nbformat_minor": 4
}
