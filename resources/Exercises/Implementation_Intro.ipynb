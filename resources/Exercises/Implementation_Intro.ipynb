{
 "cells": [
  {
   "cell_type": "markdown",
   "source": [
    "# Implementation - Some general thoughts\n",
    "A brief overview of what to look out for when implementing numerical concepts and some personal preferences will be given.\n",
    "\n",
    "```{important}\n",
    "It is good to make your mind up about this stuff before you start to code, but don't waste your time too long on this. As long as you are not working on insanely huge projects, you can always optimize and restructure your code later. The first step for the numerical analyst is to produce results, but after that you may consider to clean up the potential mess you created.\n",
    "```\n",
    "\n",
    "## What to look out for\n",
    "### Unnecessary looping\n",
    "This works:"
   ],
   "metadata": {
    "collapsed": false
   }
  },
  {
   "cell_type": "markdown",
   "source": [
    "```python\n",
    "for i in range(K_Array.shape[0]):\n",
    "        for j in range(K_Array.shape[1]):\n",
    "            index = str(i+1) + str(j+1)\n",
    "            for K in K_List:\n",
    "                if K.index == index:\n",
    "                    K_Array[i, j] = K.K_value\n",
    "                    K_Array[j, i] = K.K_value\n",
    "```\n"
   ],
   "metadata": {
    "collapsed": false
   }
  },
  {
   "cell_type": "markdown",
   "source": [
    "But we have a lot of loops we have to iterate through. When using Numpys `ndenumerate` function we can easily get rid of one of the loops."
   ],
   "metadata": {
    "collapsed": false
   }
  },
  {
   "cell_type": "markdown",
   "source": [
    "```python\n",
    "    for index in np.ndindex(K_Array):\n",
    "        i = index[0]    # Row index\n",
    "        j = index[1]    # Column index\n",
    "        str_index = str(i+1) + str(j+1)\n",
    "        for K in K_List:\n",
    "            if K.index == str_index:\n",
    "                K_Array[i, j] = K.K_value\n",
    "                K_Array[j, i] = K.K_value\n",
    "```"
   ],
   "metadata": {
    "collapsed": false
   }
  },
  {
   "cell_type": "markdown",
   "source": [
    "```{note}\n",
    "Think of each loop and ask yourself if you are really needing it. Are there built in functions which can do the same? They will mostly be faster than whatever you can implement in a feasible amount of time. Always try to vecotrize before doing anything else!\n",
    "```"
   ],
   "metadata": {
    "collapsed": false
   }
  },
  {
   "cell_type": "markdown",
   "source": [
    "### Smarter ways of implementation\n",
    "\n",
    "Let's look again at this:\n",
    "\n",
    "```python\n",
    "for index, elem in np.ndenumerate(K_Array):\n",
    "    i = index[0]    # Row index\n",
    "    j = index[1]    # Column index\n",
    "    str_index = str(i+1) + str(j+1)\n",
    "    for K in K_List:\n",
    "                if K.index == str_index:\n",
    "                    K_Array[i, j] = K.K_value\n",
    "                    K_Array[j, i] = K.K_value\n",
    "```\n",
    "\n",
    "It seems like we are trying to find some identifier which happens to be equal to some position in the matrix.\n",
    "This UID seems to be stored as a parameter of the object ```K```. Why not create a dictionary where we can directly access these elements based on their unique identifier?\n",
    "\n",
    "```python\n",
    "\n",
    "K_index_list = [K.index for K in K_List]\n",
    "K_value_list = [K.K_value for K in K_List]\n",
    "K_value_dict = dict(zip(K_index_list, K_value_list))\n",
    "\n",
    "for index, elem in np.ndenumerate(K_Array):\n",
    "    i = index[0]    # Row index\n",
    "    j = index[1]    # Column index\n",
    "    str_index = str(i+1) + str(j+1)\n",
    "    if str_index in K_value_dict.keys():\n",
    "        K_Array[i, j] = K_value_dict[str_index]\n",
    "        K_Array[j, i] = K_value_dict[str_index]     # Symmetrical Matrix\n",
    "```\n",
    "\n",
    "### Object oriented programming\n",
    "Especially for prototyping where readability and ease of implementation are of interest, object oriented programming (OOP) may help you code concepts and ideas in a more straightforward way. Furthermore, when projects get bigger, it is easier to continue to work with the same code and expand it when needed.\n",
    "\n",
    "For example, if I have problem where I want to calculate the U-value of a wall of course I can do it like this:"
   ],
   "metadata": {
    "collapsed": false
   }
  },
  {
   "cell_type": "code",
   "execution_count": 6,
   "outputs": [],
   "source": [
    "# Calculate U-value#\n",
    "\n",
    "def u_value(Rse, thickness, conduction, Rsi):\n",
    "    '''\n",
    "    Calculates U-value\n",
    "    '''\n",
    "\n",
    "    return 1 / (Rse + thickness / conduction + Rsi)\n",
    "\n",
    "# First wall\n",
    "conduction_1 = 2.3 # in W/mK\n",
    "thickness_1 = 0.2 # in meters\n",
    "Rsi_1 = 0.13 # in m²K/W\n",
    "Rse_1 = 0.04 # in m²K/W\n",
    "\n",
    "# Second wall\n",
    "conduction_2 = 1.2 # in W/mK\n",
    "thickness_2 = 0.2 # in meters\n",
    "Rsi_2 = 0.13 # in m²K/W\n",
    "Rse_2 = 0.04 # in m²K/W\n",
    "\n",
    "u_wall_1 = u_value(Rse_1, thickness_1, conduction_1, Rsi_1)\n",
    "u_wall_2 = u_value(Rse_2, thickness_2, conduction_2, Rsi_2)\n",
    "\n",
    "(u_wall_1, u_wall_2)"
   ],
   "metadata": {
    "collapsed": false
   }
  },
  {
   "cell_type": "markdown",
   "source": [
    "But with almost the same effort I could have created a `Class Wall` which can have the needed parameters and the function to calculate its U-value."
   ],
   "metadata": {
    "collapsed": false
   }
  },
  {
   "cell_type": "code",
   "execution_count": 4,
   "outputs": [
    {
     "data": {
      "text/plain": "(3.8917089678511, 2.9702970297029703)"
     },
     "execution_count": 4,
     "metadata": {},
     "output_type": "execute_result"
    }
   ],
   "source": [
    "class Wall(object):\n",
    "    def __init__(self, Rse, thickness, conduction, Rsi):\n",
    "        self.thickness = thickness\n",
    "        self.conduction = conduction\n",
    "        self.Rse = Rse\n",
    "        self.Rsi = Rsi\n",
    "\n",
    "    def u_value(self):\n",
    "        return 1 / (self.Rse + self.thickness / self.conduction + self.Rsi)\n",
    "\n",
    "\n",
    "wall1 = Wall(Rse=0.04, thickness=0.2, conduction=2.3, Rsi=0.13)\n",
    "wall2 = Wall(Rse=0.04, thickness=0.2, conduction=1.2, Rsi=0.13)\n",
    "\n",
    "(wall1.u_value(), wall2.u_value())"
   ],
   "metadata": {
    "collapsed": false
   }
  },
  {
   "cell_type": "markdown",
   "source": [
    "And if I see while I am working on the project that I need further information to define my wall or it needs to have more functions for certain evaluations, I can simply add those as parameters to my main class."
   ],
   "metadata": {
    "collapsed": false
   }
  },
  {
   "cell_type": "code",
   "execution_count": 8,
   "outputs": [],
   "source": [
    "class Wall(object):\n",
    "    def __init__(self, Rse, thickness, conduction, Rsi, some_extra_parameter):\n",
    "        self.thickness = thickness\n",
    "        self.conduction = conduction\n",
    "        self.Rse = Rse\n",
    "        self.Rsi = Rsi\n",
    "        self.some_extra_parameter = some_extra_parameter\n",
    "\n",
    "    def u_value(self):\n",
    "        return 1 / (self.Rse + self.thickness / self.conduction + self.Rsi)\n",
    "\n",
    "    def super_mysterious_optimized_calculation(self):\n",
    "        return # something super_mysterious_optimized"
   ],
   "metadata": {
    "collapsed": false
   }
  }
 ],
 "metadata": {
  "kernelspec": {
   "display_name": "Python 3",
   "language": "python",
   "name": "python3"
  },
  "language_info": {
   "codemirror_mode": {
    "name": "ipython",
    "version": 2
   },
   "file_extension": ".py",
   "mimetype": "text/x-python",
   "name": "python",
   "nbconvert_exporter": "python",
   "pygments_lexer": "ipython2",
   "version": "2.7.6"
  }
 },
 "nbformat": 4,
 "nbformat_minor": 0
}
