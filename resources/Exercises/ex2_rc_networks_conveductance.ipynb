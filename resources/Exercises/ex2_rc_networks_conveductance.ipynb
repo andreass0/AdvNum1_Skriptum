{
 "cells": [
  {
   "cell_type": "markdown",
   "source": [
    "# Exercise 2: Conduction and Convection with RC-Networks\n",
    "\n",
    "To practice the application of the numerical methods discussed in the lecture, you will write a small script to solve the temperature for a given RC-Network with conduction and convection.\n",
    "\n",
    "The following example of an RC-Network as depicted in Figure 1 should be given. The network consists of resistances and conductances with non capacitive nodes.\n",
    "\n",
    "```{figure} Ex2/ex2_rc_network.png\n",
    "---\n",
    "height: 300px\n",
    "name: ex2_rc_network\n",
    "---\n",
    "Figure from problem statement. {cite}`hagentoftIntroductionBuildingPhysics2001`, {cite}`claessonNetworkAnalysisNumerical1994`.\n",
    "```\n",
    "\n",
    "The problem should be solved using Equation"
   ],
   "metadata": {
    "collapsed": false
   }
  },
  {
   "cell_type": "code",
   "execution_count": null,
   "outputs": [],
   "source": [],
   "metadata": {
    "collapsed": false
   }
  }
 ],
 "metadata": {
  "kernelspec": {
   "display_name": "Python 3",
   "language": "python",
   "name": "python3"
  },
  "language_info": {
   "codemirror_mode": {
    "name": "ipython",
    "version": 2
   },
   "file_extension": ".py",
   "mimetype": "text/x-python",
   "name": "python",
   "nbconvert_exporter": "python",
   "pygments_lexer": "ipython2",
   "version": "2.7.6"
  }
 },
 "nbformat": 4,
 "nbformat_minor": 0
}
