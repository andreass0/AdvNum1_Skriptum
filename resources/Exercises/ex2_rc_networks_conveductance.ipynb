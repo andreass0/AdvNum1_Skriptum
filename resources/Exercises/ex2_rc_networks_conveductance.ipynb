{
 "cells": [
  {
   "cell_type": "markdown",
   "source": [
    "# Exercise 2: Conduction and Convection with RC-Networks\n",
    "\n",
    "To practice the application of the numerical methods discussed in the lecture, you will write a small script to solve the temperature for a given RC-Network with conduction and convection.\n",
    "\n",
    "The following example of an RC-Network as depicted in {numref}`ex2_rc_network` should be given. The network consists of resistances and conductances with non-capacitive nodes.\n",
    "\n",
    "```{figure} Ex2/ex2_rc_network.png\n",
    "---\n",
    "height: 300px\n",
    "name: ex2_rc_network\n",
    "---\n",
    "Figure from problem statement. {cite}`hagentoftIntroductionBuildingPhysics2001`, {cite}`claessonNetworkAnalysisNumerical1994`.\n",
    "```\n",
    "\n",
    "The problem should be solved using Equation {eq}`eq_rc_network`:\n",
    "\n",
    "$$\n",
    "\\mathbf{Q} = \\mathbf{K^{t}} \\mathbf{T} + \\mathbf{I_{0}}\n",
    "$$(eq_rc_network)"
   ],
   "metadata": {
    "collapsed": false
   }
  },
  {
   "cell_type": "markdown",
   "source": [
    "## Program Design\n",
    "First we are going to create some classes to easier describe the problem.\n",
    "```{code} Python\n",
    "class Node(object):\n",
    "\n",
    "class K(object):\n",
    "\n",
    "class Source(object):\n",
    "```\n",
    "- **Node**: A class to represent the nodes of the network. It should have a temperature and a list of conductances. It is important to note that we are using the `@property` decorator to make the conductances a property of the node. This way we can easily change the conductances of the node without having to change the code.\n",
    "- **K**: A class to represent the conductances in the network. The start and end of the conductance as described in {cite}`claessonNetworkAnalysisNumerical1994` have to be defined. Furthermore, the conductance should a specified conduction value defining the heat conduction of the conductance. A mass flow rate is optional if heat convection should be calculated as well. The resulting conduction is calculated using the @property decorator to keep the code clean and the paremeter updated if changed.\n",
    "- **Source**: A class to describe heat sources in the network. Heat sources are applied directly to nodes therefore the `index` represents the node the heat source is applied to.\n",
    "\n",
    "\n"
   ],
   "metadata": {
    "collapsed": false
   }
  },
  {
   "cell_type": "code",
   "execution_count": 54,
   "outputs": [],
   "source": [
    "import numpy as np\n",
    "from numpy.linalg import inv, solve\n",
    "import matplotlib.pyplot as plt\n",
    "\n",
    "\n",
    "# -----------------------------\n",
    "#   Helper Classes\n",
    "# -----------------------------\n",
    "\n",
    "class Node(object):\n",
    "    def __init__(self, Tn, index, *args, **kwargs):\n",
    "        self.Tn = Tn    # in °C or K\n",
    "        self._K = kwargs.get('K', None)\n",
    "        self.index = index\n",
    "\n",
    "    @property\n",
    "    def K(self):\n",
    "        if self._K is None:\n",
    "            # self.K = [K for K in K_List if self.index == K.node_start or self.index == K.node_end]\n",
    "            self.K = [K for K in K_List if self.index == K.node_start]\n",
    "            self.K.append([K for K in K_BC_List if self.index == K.node_end][0])\n",
    "        return self._K\n",
    "\n",
    "    @K.setter\n",
    "    def K(self, value):\n",
    "        self._K = value\n",
    "\n",
    "\n",
    "class K(object):\n",
    "    def __init__(self, node_start, node_end, *args, **kwargs):\n",
    "        # self.K_value = K_value\n",
    "        self.cond = kwargs.get('cond', None)  # in W/K\n",
    "        self.node_start = node_start\n",
    "        self.node_end = node_end\n",
    "        self._mass_flow = kwargs.get('mass_flow', None)  # in kg/s\n",
    "        self._index = kwargs.get('index', None)\n",
    "        self._K_value = kwargs.get('K_value', None)\n",
    "\n",
    "\n",
    "    @property\n",
    "    def index(self):\n",
    "        if self._index is None:\n",
    "            self.index = self.node_start + self.node_end\n",
    "        return self._index\n",
    "\n",
    "    @index.setter\n",
    "    def index(self, value):\n",
    "        self._index = value\n",
    "\n",
    "    @property\n",
    "    def K_value(self):\n",
    "        if self._K_value is None:\n",
    "            self.K_value = self.cond + self.mass_flow * 1000    # specific heat capacity dry ar approx. 1000 J/kgK\n",
    "        return self._K_value\n",
    "\n",
    "    @K_value.setter\n",
    "    def K_value(self, value):\n",
    "        self._K_value = value\n",
    "\n",
    "    @property\n",
    "    def mass_flow(self):\n",
    "        if self._mass_flow is None:\n",
    "            self.mass_flow = 0\n",
    "        return self._mass_flow\n",
    "\n",
    "    @mass_flow.setter\n",
    "    def mass_flow(self, value):\n",
    "        self._mass_flow = value\n",
    "\n",
    "\n",
    "class Source(object):\n",
    "    def __init__(self, index, heatflow, *args, **kwargs):\n",
    "        self.index = index\n",
    "        self.heatflow = heatflow\n",
    "\n"
   ],
   "metadata": {
    "collapsed": false
   }
  },
  {
   "cell_type": "markdown",
   "source": [
    "## User Input\n",
    "\n",
    "Here the user can specify their input. Exemplary values are given based on the problem statement of the exercise.\n",
    "\n",
    "- Variant 1 $\\rightarrow$ without convection (BCs from Table {numref}`bc_table` without $\\dot M$, pure conduction always 0.1 W/mK)\n",
    "- Variant 2 $\\rightarrow$ with convection (BCs from  Table {numref}`bc_table` + use $\\dot M$ as specified in Table~\\ref{tab:bc_example}, pure conduction always 0.1 W/mK)\n",
    "\n",
    "```{table} Boundary conditions for problem statement\n",
    ":name: bc_table\n",
    "| Temperature          | Heat Source         | Mass flow for Variant2       |\n",
    "|----------------------|---------------------|------------------------------|\n",
    "| $T_{01} = 19\\ C^{°}$ | $I_{0_{1}} = 10\\ W$ | $\\dot M_{12} = 0.05\\ kg/s$   |\n",
    "| $T_{02} = 25\\ C^{°}$ | $I_{0_{2}} = 20\\ W$ | $\\dot M_{32} = 0.05\\  kg/s $ |\n",
    "| $T_{03} = 0\\ C^{°}$  | $I_{0_{3}} = 10\\ W$ | $\\dot M_{13} = 0\\  kg/s$     |\n",
    "```\n"
   ],
   "metadata": {
    "collapsed": false
   }
  },
  {
   "cell_type": "code",
   "execution_count": 55,
   "outputs": [],
   "source": [
    "# Create nodes and conductances\n",
    "# Main nodes\n",
    "T1 = Node(Tn=20, index='1')\n",
    "T2 = Node(Tn=20, index='2')\n",
    "T3 = Node(Tn=20, index='3')\n",
    "# Node_List = [T1, T2]\n",
    "Node_List = [T1, T2, T3]\n",
    "\n",
    "# Boundaries\n",
    "T01 = Node(Tn=20, index='01')\n",
    "T02 = Node(Tn=20, index='02')\n",
    "T03 = Node(Tn=20, index='03')\n",
    "# BC_Node_List = [T01, T02]\n",
    "BC_Node_List = [T01, T02, T03]\n",
    "\n",
    "# Conductances\n",
    "K12 = K(cond=0.1, mass_flow=0.05, node_start='1', node_end='2')   # uncomment for Variant 2\n",
    "# K12 = K(cond=0.1, mass_flow=0, node_start='1', node_end='2')\n",
    "K21 = K(cond=0.1, mass_flow=0, node_start='2', node_end='1')\n",
    "K13 = K(cond=0.1, mass_flow=0, node_start='1', node_end='3')\n",
    "K31 = K(cond=0.1, mass_flow=0, node_start='3', node_end='1')\n",
    "K23 = K(cond=0.1, mass_flow=0, node_start='2', node_end='3')\n",
    "K32 = K(cond=0.1, mass_flow=0.05, node_start='3', node_end='2')   # uncomment for Variant 2\n",
    "# K32 = K(cond=0.1, mass_flow=0, node_start='3', node_end='2')\n",
    "\n",
    "# BC Conductances\n",
    "K01 = K(K_value=0.1, node_start='01', node_end='1')\n",
    "K02 = K(K_value=0.1, node_start='02', node_end='2')\n",
    "K03 = K(K_value=0.1, node_start='03', node_end='3')\n",
    "K_List = [K12, K21, K13, K31, K23, K32, K01, K02, K03]\n",
    "# K_List = [K12, K21, K01, K02]\n",
    "K_BC_List = [K01, K02, K03]\n",
    "# K_BC_List = [K01, K02]\n",
    "\n",
    "# Sources\n",
    "I1 = Source(index='1', heatflow=10)\n",
    "# I1 = Source(index='1', heatflow=0)\n",
    "I2 = Source(index='2', heatflow=20)\n",
    "# I2 = Source(index='2', heatflow=0)\n",
    "I3 = Source(index='3', heatflow=10)\n",
    "# I3 = Source(index='3', heatflow=0)\n",
    "\n",
    "Sources_List = [I1, I2, I3]\n",
    "# Sources_List = [I1, I2]\n",
    "\n",
    "# End User Input\n",
    "# -------------------------------------------------------"
   ],
   "metadata": {
    "collapsed": false
   }
  },
  {
   "cell_type": "markdown",
   "source": [
    "Since in this exercise the structuring of data is of importance, different ways to structure data are shown. Here for example we are using zip to create a joint dictionary with indexes and values from the K-instances."
   ],
   "metadata": {
    "collapsed": false
   }
  },
  {
   "cell_type": "code",
   "execution_count": 56,
   "outputs": [],
   "source": [
    "K_index_list = [K.index for K in K_List]\n",
    "K_value_list = [K.K_value for K in K_List]\n",
    "K_value_dict = dict(\n",
    "zip(K_index_list, K_value_list))  # Dictionary where the K values are stored with their index as keys."
   ],
   "metadata": {
    "collapsed": false
   }
  },
  {
   "cell_type": "markdown",
   "source": [
    "## Numerics\n",
    "### Building the LES\n",
    "First we need to assemble our matrices to build the LES."
   ],
   "metadata": {
    "collapsed": false
   }
  },
  {
   "cell_type": "code",
   "execution_count": 57,
   "outputs": [],
   "source": [
    "# -----------------------------\n",
    "#         NUMERICS\n",
    "# -----------------------------\n",
    "\n",
    "# Stationary Calculation\n",
    "unknowns = Node_List.__len__()\n",
    "# Temperature Vector\n",
    "Tn = np.array([Node.Tn for Node in Node_List])\n",
    "\n",
    "# Conductivity Matrix\n",
    "main_diag_k = np.zeros(Tn.size)  # Be careful when using zero- or one-like they are bound to the dtype of the copied\n",
    "# array. Eg. if you are only putitng int as an initial condition into the array you copy numpy will assign the\n",
    "# dtype int.ö The copy will only accept int or round to int.\n",
    "\n",
    "# TODO: Check if this can be done smarter\n",
    "for index, node in enumerate(Node_List):\n",
    "    main_diag_k[index] = np.sum([K.K_value for K in node.K])\n",
    "Kt_Array = np.eye(unknowns, unknowns) * -main_diag_k\n",
    "\n",
    "for index, elem in np.ndenumerate(Kt_Array):\n",
    "    i = index[0]  # Row index\n",
    "    j = index[1]  # Column index\n",
    "    str_index = str(i + 1) + str(j + 1)\n",
    "    if str_index in K_value_dict.keys():\n",
    "        # Kt_Array[i, j] = K_value_dict[str_index]\n",
    "        Kt_Array[j, i] = K_value_dict[str_index]  # Symmetrical Matrix\n",
    "\n",
    "# Boundary Conductivity Matrix\n",
    "num_bc_nodes = BC_Node_List.__len__()\n",
    "num_k_bc = K_BC_List.__len__()\n",
    "K_BC_Array = np.zeros((unknowns, num_bc_nodes), dtype=object)\n",
    "K_BC_Array[:] = [K for K in K_BC_List]\n",
    "K_value_BC_Array = np.zeros((unknowns, num_bc_nodes))\n",
    "K_value_BC_Array[:] = [K.K_value for K in K_BC_List]\n",
    "\n",
    "K_BC_Adjacency = np.zeros((unknowns, num_bc_nodes))\n",
    "for i, node in enumerate(Node_List):\n",
    "    for j, K in np.ndenumerate(K_BC_Array):\n",
    "        if node.index == K.node_start or node.index == K.node_end:\n",
    "            K_BC_Adjacency[i, j[1]] = 1\n",
    "# Sources\n",
    "I_sources = np.zeros(unknowns)\n",
    "for source in Sources_List:\n",
    "    idx = int(source.index) - 1  # adjust index by subtracting 1\n",
    "    I_sources[idx] = source.heatflow\n",
    "\n",
    "# Boundary Temperatures\n",
    "T_BC_vec = np.array([node.Tn for node in BC_Node_List])\n",
    "K_BC = K_BC_Adjacency * K_value_BC_Array\n",
    "Io = K_BC @ T_BC_vec + I_sources"
   ],
   "metadata": {
    "collapsed": false
   }
  },
  {
   "cell_type": "markdown",
   "source": [
    "### Solving the LES\n",
    "For now, we will only solve the stationary case. This means $\\mathbf{Q} \\equiv 0$.\n",
    "Inserting into Equation {eq}`eq_rc_network` we get:\n",
    "\n",
    "$$\n",
    "\\mathbf{0} = \\mathbf{K^{t}} \\mathbf{T} + \\mathbf{I}_o\n",
    "\n",
    "$$(eq_rc_network_stationary)\n",
    "\n",
    "Reshaping gives us a solution for $\\mathbf{T}$:\n",
    "\n",
    "$$\n",
    "\\mathbf{T} = -(\\mathbf{K^{t})^{-1}} \\mathbf{I}_o\n",
    "$$(eq_rc_network_stationary_reshaped)\n",
    "\n",
    "Instead of solving the LES directly as stated in Equation {eq}`eq_rc_network_stationary_reshaped` we will use the [numpy.linalg.solve()](https://numpy.org/doc/stable/reference/generated/numpy.linalg.solve.html) function. This function is more efficient and numerically more stable than the inverse."
   ],
   "metadata": {
    "collapsed": false
   }
  },
  {
   "cell_type": "code",
   "execution_count": 58,
   "outputs": [
    {
     "name": "stdout",
     "output_type": "stream",
     "text": [
      "Solving Stationary Calculation\n",
      "The temperature vector is: [  1.15079365 457.6984127    1.15079365] \n",
      "End of Stationary Calculation\n"
     ]
    }
   ],
   "source": [
    "# Calculation\n",
    "print('Solving Stationary Calculation')\n",
    "# T = -inv(Kt_Array) @ Io\n",
    "T = solve(Kt_Array, -Io)\n",
    "\n",
    "print(f'The temperature vector is: {T} ')\n",
    "print('End of Stationary Calculation')"
   ],
   "metadata": {
    "collapsed": false
   }
  },
  {
   "cell_type": "markdown",
   "source": [
    "### Postprocessing\n",
    "A way of visualizing the results is to plot a heatmap of the temperature in the different node. This can be done using the [matplotlib.pyplot.imshow()](https://matplotlib.org/stable/api/_as_gen/matplotlib.pyplot.imshow.html) function. Possibly not the best, but one way."
   ],
   "metadata": {
    "collapsed": false
   }
  },
  {
   "cell_type": "code",
   "execution_count": 71,
   "outputs": [
    {
     "data": {
      "text/plain": "<Figure size 640x480 with 2 Axes>",
      "image/png": "[encoded data removed]"
     },
     "metadata": {},
     "output_type": "display_data"
    }
   ],
   "source": [
    "# https://chat.openai.com/\n",
    "\n",
    "# Define the grid corresponding to the RC network, including indices\n",
    "n_nodes = len(T)\n",
    "grid_size = n_nodes\n",
    "grid = np.zeros((grid_size, 2))\n",
    "# grid[:, 0] = np.arange(grid_size)  # indices\n",
    "grid[:, 0] = np.array([Node.index for Node in Node_List])  # indices\n",
    "grid[:, 1] = T               # temperatures\n",
    "\n",
    "# Define the color scale for the heatmap\n",
    "cmap = plt.cm.get_cmap('jet')\n",
    "\n",
    "# Plot the heatmap with indices as labels\n",
    "fig, ax = plt.subplots()\n",
    "im = ax.imshow(grid[:, 1].reshape((grid_size, 1)), cmap=cmap)\n",
    "ax.set_xticks([])\n",
    "ax.set_yticks([])\n",
    "for i in range(grid_size):\n",
    "    ax.text(0, i, f'Node {int(grid[i, 0])}', ha=\"center\", va=\"bottom\", color=\"w\", weight='bold')\n",
    "for i in range(grid_size):\n",
    "    ax.text(0, i, f'{int(grid[i, 1])} C°', ha=\"center\", va=\"top\", color=\"w\", weight='bold')\n",
    "fig.colorbar(im)\n",
    "plt.show()"
   ],
   "metadata": {
    "collapsed": false
   }
  }
 ],
 "metadata": {
  "kernelspec": {
   "display_name": "Python 3",
   "language": "python",
   "name": "python3"
  },
  "language_info": {
   "codemirror_mode": {
    "name": "ipython",
    "version": 2
   },
   "file_extension": ".py",
   "mimetype": "text/x-python",
   "name": "python",
   "nbconvert_exporter": "python",
   "pygments_lexer": "ipython2",
   "version": "2.7.6"
  }
 },
 "nbformat": 4,
 "nbformat_minor": 0
}
